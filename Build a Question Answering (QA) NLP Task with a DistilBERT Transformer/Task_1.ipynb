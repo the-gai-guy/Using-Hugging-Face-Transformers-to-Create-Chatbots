{
  "nbformat": 4,
  "nbformat_minor": 0,
  "metadata": {
    "colab": {
      "provenance": [],
      "authorship_tag": "ABX9TyOZSgyKomCcyQoBp5yVJfW4"
    },
    "kernelspec": {
      "name": "python3",
      "display_name": "Python 3"
    },
    "language_info": {
      "name": "python"
    }
  },
  "cells": [
    {
      "cell_type": "code",
      "execution_count": null,
      "metadata": {
        "id": "BldLqTb_ehlA"
      },
      "outputs": [],
      "source": []
    }
  ]
}
